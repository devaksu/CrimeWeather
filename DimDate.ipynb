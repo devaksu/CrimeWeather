{
 "cells": [
  {
   "cell_type": "code",
   "execution_count": 1,
   "id": "bcc41843",
   "metadata": {},
   "outputs": [],
   "source": [
    "import pandas as pd\n",
    "import datetime\n",
    "\n",
    "START = '9/1/2022'\n",
    "END = '3/31/2023'"
   ]
  },
  {
   "cell_type": "code",
   "execution_count": 2,
   "id": "c284b0af",
   "metadata": {},
   "outputs": [],
   "source": [
    "df= pd.DataFrame(pd.date_range(START,END,freq=\"H\"),columns=['Datetime'])\n",
    "\n",
    "df['Day'] = df[\"Datetime\"].dt.day\n",
    "df['Day'] = df['Day'].apply(lambda x: '{0:0>2}'.format(x))\n",
    "\n",
    "df['Month'] = df[\"Datetime\"].dt.month\n",
    "df['Month'] = df['Month'].apply(lambda x: '{0:0>2}'.format(x))\n",
    "\n",
    "df['Year'] = df[\"Datetime\"].dt.year \n",
    "\n",
    "df['Hour'] = df[\"Datetime\"].dt.hour\n",
    "df['Hour'] = df['Hour'].apply(lambda x: '{0:0>2}'.format(x))\n",
    "\n",
    "df['DateKey'] = df['Year'].astype(str) + df['Month'].astype(str) + df['Day'].astype(str) + df['Hour'].astype(str)\n",
    "df = df.astype({'DateKey':'int64'})\n",
    "\n",
    "df = df.reindex(columns=['DateKey','Datetime','Year','Month','Day','Hour'])\n",
    "\n",
    "df.to_csv('DimDate.csv', sep=',')"
   ]
  }
 ],
 "metadata": {
  "kernelspec": {
   "display_name": "Python 3 (ipykernel)",
   "language": "python",
   "name": "python3"
  },
  "language_info": {
   "codemirror_mode": {
    "name": "ipython",
    "version": 3
   },
   "file_extension": ".py",
   "mimetype": "text/x-python",
   "name": "python",
   "nbconvert_exporter": "python",
   "pygments_lexer": "ipython3",
   "version": "3.11.1"
  }
 },
 "nbformat": 4,
 "nbformat_minor": 5
}
