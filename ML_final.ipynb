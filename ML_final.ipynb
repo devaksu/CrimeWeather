{
 "cells": [
  {
   "cell_type": "markdown",
   "id": "c4bb9053-6176-4023-b2a7-ca32fccba349",
   "metadata": {},
   "source": [
    "# Machine Learning"
   ]
  },
  {
   "cell_type": "markdown",
   "id": "5135a6be-3658-4737-beb3-6924d0a1d826",
   "metadata": {},
   "source": [
    "### Imports"
   ]
  },
  {
   "cell_type": "code",
   "execution_count": 2,
   "id": "7820bf3a",
   "metadata": {},
   "outputs": [],
   "source": [
    "import pandas as pd\n",
    "import numpy as np\n",
    "import requests\n",
    "import json\n",
    "import random\n",
    "\n",
    "from sklearn.preprocessing import LabelEncoder\n",
    "from sklearn.model_selection import train_test_split\n",
    "from sklearn.metrics import accuracy_score\n",
    "\n",
    "from sklearn.neighbors import KNeighborsClassifier\n",
    "from sklearn.naive_bayes import GaussianNB\n",
    "from sklearn.tree import DecisionTreeClassifier\n",
    "from sklearn.ensemble import RandomForestClassifier\n",
    "from sklearn.linear_model import LogisticRegression\n",
    "\n",
    "from datetime import datetime, timedelta\n",
    "from warnings import simplefilter"
   ]
  },
  {
   "cell_type": "markdown",
   "id": "edad4510-4bc8-4ce3-b7ef-118f7f1958f0",
   "metadata": {},
   "source": [
    "### 1. Reading data from CSV to DataFrame"
   ]
  },
  {
   "cell_type": "code",
   "execution_count": null,
   "id": "7abd886f",
   "metadata": {
    "scrolled": true
   },
   "outputs": [],
   "source": [
    "simplefilter(action='ignore', category=FutureWarning)\n",
    "\n",
    "df = pd.read_csv('FactCrimes.csv')\n",
    "df = df.drop('Neighborhood', axis=1)\n",
    "df = df.drop('DateKey', axis=1)\n",
    "df.head()"
   ]
  },
  {
   "cell_type": "markdown",
   "id": "c9e0568d-1778-4d62-af84-199a40f037f3",
   "metadata": {},
   "source": [
    "### 2. Using LabelEncoder for encoding incidentCategory values to numerical "
   ]
  },
  {
   "cell_type": "code",
   "execution_count": null,
   "id": "baa3aaae",
   "metadata": {
    "scrolled": true
   },
   "outputs": [],
   "source": [
    "le = LabelEncoder()\n",
    "le.fit(df['IncidentCategory'])\n",
    "df['IncidentCategory'] = le.transform(df['IncidentCategory'])\n",
    "df.head()"
   ]
  },
  {
   "cell_type": "markdown",
   "id": "f4fe6757",
   "metadata": {},
   "source": [
    "### 3. Define X and y and train/test-split"
   ]
  },
  {
   "cell_type": "code",
   "execution_count": null,
   "id": "9f4e9567",
   "metadata": {},
   "outputs": [],
   "source": [
    "y = df['IncidentCategory'].values\n",
    "X = df[['Temperature','Humidity','Clouds','Wind']].values\n",
    "X_train,X_test,y_train,y_test = train_test_split(X,y,test_size=.3)"
   ]
  },
  {
   "cell_type": "markdown",
   "id": "9dc6596f",
   "metadata": {},
   "source": [
    "### 4. Create all the models and append them to models list"
   ]
  },
  {
   "cell_type": "code",
   "execution_count": null,
   "id": "5469c361",
   "metadata": {},
   "outputs": [],
   "source": [
    "reg_strength = 0.02\n",
    "models = []\n",
    "\n",
    "models.append(KNeighborsClassifier(n_neighbors = 72))   # default = 5\n",
    "models.append(DecisionTreeClassifier(max_depth=1))\n",
    "models.append(GaussianNB())\n",
    "models.append(RandomForestClassifier(max_depth=1))\n",
    "models.append(LogisticRegression(C=1/reg_strength, solver=\"liblinear\"))\n",
    "\n",
    "random.shuffle(models)"
   ]
  },
  {
   "cell_type": "markdown",
   "id": "7264708e",
   "metadata": {},
   "source": [
    "### 5. Training and reviewing all models in for loop"
   ]
  },
  {
   "cell_type": "code",
   "execution_count": null,
   "id": "33f0c1cf",
   "metadata": {
    "scrolled": true
   },
   "outputs": [],
   "source": [
    "best_model = {'model': None, 'score': 0}\n",
    "\n",
    "for model in models:\n",
    "    print(f'Training model {model}')\n",
    "    model.fit(X_train, y_train)\n",
    "    predictions = model.predict(X_test)\n",
    "    acc = accuracy_score(y_test,predictions)\n",
    "    if acc > best_model['score']:\n",
    "        best_model.update({'model': model})\n",
    "        best_model.update({'score': acc})\n",
    "    print(f'Model accuracy: {acc} \\n')\n",
    "    \n",
    "print(best_model)"
   ]
  },
  {
   "cell_type": "markdown",
   "id": "07f4c91c-177f-4d4e-af57-123ff7b74f54",
   "metadata": {},
   "source": [
    "### 6. Bit of time-related calculations"
   ]
  },
  {
   "cell_type": "code",
   "execution_count": 21,
   "id": "a9272504",
   "metadata": {},
   "outputs": [],
   "source": [
    "aikaero = timedelta(hours=9)\n",
    "now_sf = datetime.now() - aikaero\n",
    "predict_hour = now_sf + timedelta(hours=1)\n",
    "predict_hour = predict_hour.strftime(\"%H\")"
   ]
  },
  {
   "cell_type": "markdown",
   "id": "087dc886-b885-47ec-8c9d-8d352ef6b7d3",
   "metadata": {},
   "source": [
    "### 7. Calling API for weather forecast and converting received JSON to DataFrame"
   ]
  },
  {
   "cell_type": "code",
   "execution_count": 3,
   "id": "e5089f6f-ad07-4464-a78e-769d9f52243e",
   "metadata": {},
   "outputs": [
    {
     "data": {
      "text/html": [
       "<div>\n",
       "<style scoped>\n",
       "    .dataframe tbody tr th:only-of-type {\n",
       "        vertical-align: middle;\n",
       "    }\n",
       "\n",
       "    .dataframe tbody tr th {\n",
       "        vertical-align: top;\n",
       "    }\n",
       "\n",
       "    .dataframe thead th {\n",
       "        text-align: right;\n",
       "    }\n",
       "</style>\n",
       "<table border=\"1\" class=\"dataframe\">\n",
       "  <thead>\n",
       "    <tr style=\"text-align: right;\">\n",
       "      <th></th>\n",
       "      <th>temperature</th>\n",
       "      <th>humidity</th>\n",
       "      <th>cloud</th>\n",
       "      <th>wind</th>\n",
       "    </tr>\n",
       "  </thead>\n",
       "  <tbody>\n",
       "    <tr>\n",
       "      <th>0</th>\n",
       "      <td>6.8</td>\n",
       "      <td>78</td>\n",
       "      <td>0</td>\n",
       "      <td>1.98</td>\n",
       "    </tr>\n",
       "    <tr>\n",
       "      <th>1</th>\n",
       "      <td>6.6</td>\n",
       "      <td>78</td>\n",
       "      <td>0</td>\n",
       "      <td>2.10</td>\n",
       "    </tr>\n",
       "    <tr>\n",
       "      <th>2</th>\n",
       "      <td>6.4</td>\n",
       "      <td>85</td>\n",
       "      <td>1</td>\n",
       "      <td>1.87</td>\n",
       "    </tr>\n",
       "    <tr>\n",
       "      <th>3</th>\n",
       "      <td>6.5</td>\n",
       "      <td>83</td>\n",
       "      <td>0</td>\n",
       "      <td>2.02</td>\n",
       "    </tr>\n",
       "    <tr>\n",
       "      <th>4</th>\n",
       "      <td>6.0</td>\n",
       "      <td>82</td>\n",
       "      <td>0</td>\n",
       "      <td>2.21</td>\n",
       "    </tr>\n",
       "    <tr>\n",
       "      <th>5</th>\n",
       "      <td>5.8</td>\n",
       "      <td>83</td>\n",
       "      <td>0</td>\n",
       "      <td>2.50</td>\n",
       "    </tr>\n",
       "    <tr>\n",
       "      <th>6</th>\n",
       "      <td>5.6</td>\n",
       "      <td>81</td>\n",
       "      <td>0</td>\n",
       "      <td>2.33</td>\n",
       "    </tr>\n",
       "    <tr>\n",
       "      <th>7</th>\n",
       "      <td>5.5</td>\n",
       "      <td>85</td>\n",
       "      <td>0</td>\n",
       "      <td>2.82</td>\n",
       "    </tr>\n",
       "    <tr>\n",
       "      <th>8</th>\n",
       "      <td>6.3</td>\n",
       "      <td>87</td>\n",
       "      <td>3</td>\n",
       "      <td>2.46</td>\n",
       "    </tr>\n",
       "    <tr>\n",
       "      <th>9</th>\n",
       "      <td>9.1</td>\n",
       "      <td>88</td>\n",
       "      <td>77</td>\n",
       "      <td>1.49</td>\n",
       "    </tr>\n",
       "    <tr>\n",
       "      <th>10</th>\n",
       "      <td>10.6</td>\n",
       "      <td>83</td>\n",
       "      <td>100</td>\n",
       "      <td>1.26</td>\n",
       "    </tr>\n",
       "    <tr>\n",
       "      <th>11</th>\n",
       "      <td>11.5</td>\n",
       "      <td>81</td>\n",
       "      <td>100</td>\n",
       "      <td>1.14</td>\n",
       "    </tr>\n",
       "    <tr>\n",
       "      <th>12</th>\n",
       "      <td>12.8</td>\n",
       "      <td>73</td>\n",
       "      <td>100</td>\n",
       "      <td>1.44</td>\n",
       "    </tr>\n",
       "    <tr>\n",
       "      <th>13</th>\n",
       "      <td>13.6</td>\n",
       "      <td>66</td>\n",
       "      <td>100</td>\n",
       "      <td>1.72</td>\n",
       "    </tr>\n",
       "    <tr>\n",
       "      <th>14</th>\n",
       "      <td>14.5</td>\n",
       "      <td>65</td>\n",
       "      <td>100</td>\n",
       "      <td>1.65</td>\n",
       "    </tr>\n",
       "    <tr>\n",
       "      <th>15</th>\n",
       "      <td>15.4</td>\n",
       "      <td>62</td>\n",
       "      <td>100</td>\n",
       "      <td>2.58</td>\n",
       "    </tr>\n",
       "    <tr>\n",
       "      <th>16</th>\n",
       "      <td>13.4</td>\n",
       "      <td>83</td>\n",
       "      <td>55</td>\n",
       "      <td>5.06</td>\n",
       "    </tr>\n",
       "    <tr>\n",
       "      <th>17</th>\n",
       "      <td>12.5</td>\n",
       "      <td>83</td>\n",
       "      <td>96</td>\n",
       "      <td>5.19</td>\n",
       "    </tr>\n",
       "    <tr>\n",
       "      <th>18</th>\n",
       "      <td>12.2</td>\n",
       "      <td>81</td>\n",
       "      <td>100</td>\n",
       "      <td>4.63</td>\n",
       "    </tr>\n",
       "    <tr>\n",
       "      <th>19</th>\n",
       "      <td>10.9</td>\n",
       "      <td>81</td>\n",
       "      <td>100</td>\n",
       "      <td>4.18</td>\n",
       "    </tr>\n",
       "    <tr>\n",
       "      <th>20</th>\n",
       "      <td>10.8</td>\n",
       "      <td>81</td>\n",
       "      <td>100</td>\n",
       "      <td>3.14</td>\n",
       "    </tr>\n",
       "    <tr>\n",
       "      <th>21</th>\n",
       "      <td>10.8</td>\n",
       "      <td>78</td>\n",
       "      <td>100</td>\n",
       "      <td>1.80</td>\n",
       "    </tr>\n",
       "    <tr>\n",
       "      <th>22</th>\n",
       "      <td>9.9</td>\n",
       "      <td>81</td>\n",
       "      <td>100</td>\n",
       "      <td>0.30</td>\n",
       "    </tr>\n",
       "    <tr>\n",
       "      <th>23</th>\n",
       "      <td>8.9</td>\n",
       "      <td>84</td>\n",
       "      <td>33</td>\n",
       "      <td>2.01</td>\n",
       "    </tr>\n",
       "  </tbody>\n",
       "</table>\n",
       "</div>"
      ],
      "text/plain": [
       "    temperature  humidity  cloud  wind\n",
       "0           6.8        78      0  1.98\n",
       "1           6.6        78      0  2.10\n",
       "2           6.4        85      1  1.87\n",
       "3           6.5        83      0  2.02\n",
       "4           6.0        82      0  2.21\n",
       "5           5.8        83      0  2.50\n",
       "6           5.6        81      0  2.33\n",
       "7           5.5        85      0  2.82\n",
       "8           6.3        87      3  2.46\n",
       "9           9.1        88     77  1.49\n",
       "10         10.6        83    100  1.26\n",
       "11         11.5        81    100  1.14\n",
       "12         12.8        73    100  1.44\n",
       "13         13.6        66    100  1.72\n",
       "14         14.5        65    100  1.65\n",
       "15         15.4        62    100  2.58\n",
       "16         13.4        83     55  5.06\n",
       "17         12.5        83     96  5.19\n",
       "18         12.2        81    100  4.63\n",
       "19         10.9        81    100  4.18\n",
       "20         10.8        81    100  3.14\n",
       "21         10.8        78    100  1.80\n",
       "22          9.9        81    100  0.30\n",
       "23          8.9        84     33  2.01"
      ]
     },
     "execution_count": 3,
     "metadata": {},
     "output_type": "execute_result"
    }
   ],
   "source": [
    "URL = 'https://api.open-meteo.com/v1/forecast?latitude=37.77&longitude=-122.42&hourly=temperature_2m,relativehumidity_2m,cloudcover,windspeed_10m&windspeed_unit=ms&forecast_days=1&timezone=America%2FLos_Angeles'\n",
    "\n",
    "response = requests.get(URL)\n",
    "json_data = response.json()\n",
    "\n",
    "forecast = pd.DataFrame({\n",
    "    'temperature': json_data['hourly']['temperature_2m'],\n",
    "    'humidity': json_data['hourly']['relativehumidity_2m'],\n",
    "    'cloud': json_data['hourly']['cloudcover'],\n",
    "    'wind': json_data['hourly']['windspeed_10m']\n",
    "})\n",
    "forecast.head()"
   ]
  },
  {
   "cell_type": "markdown",
   "id": "6f7d3f75-40e8-44fd-9524-dbe2d0396abd",
   "metadata": {},
   "source": [
    "### 8. Predicting upcoming CrimeWeather®"
   ]
  },
  {
   "cell_type": "code",
   "execution_count": 23,
   "id": "83edfe00-1fe1-4596-a816-256b3c660295",
   "metadata": {},
   "outputs": [
    {
     "name": "stdout",
     "output_type": "stream",
     "text": [
      "Todennäköisin rikos: Larceny Theft\n"
     ]
    }
   ],
   "source": [
    "t = forecast.loc[int(predict_hour)]\n",
    "f = [t.temperature, t.humidity, t.cloud, t.wind]\n",
    "f = np.array(f).reshape(1,-1)\n",
    "\n",
    "model = best_model['model']\n",
    "pred = model.predict(f)[0]\n",
    "prediction = le.inverse_transform([pred])\n",
    "\n",
    "print(f'Todennäköisin rikos: {prediction[0]}')"
   ]
  },
  {
   "cell_type": "markdown",
   "id": "141b127b-0959-487c-b59d-6d998af2cf2b",
   "metadata": {},
   "source": [
    "### 9. Resolutions"
   ]
  }
 ],
 "metadata": {
  "kernelspec": {
   "display_name": "Python 3 (ipykernel)",
   "language": "python",
   "name": "python3"
  },
  "language_info": {
   "codemirror_mode": {
    "name": "ipython",
    "version": 3
   },
   "file_extension": ".py",
   "mimetype": "text/x-python",
   "name": "python",
   "nbconvert_exporter": "python",
   "pygments_lexer": "ipython3",
   "version": "3.11.1"
  }
 },
 "nbformat": 4,
 "nbformat_minor": 5
}
