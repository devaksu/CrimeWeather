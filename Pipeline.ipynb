{
 "cells": [
  {
   "cell_type": "markdown",
   "id": "4ca3ff0b-cdd5-4dd5-bc7c-c1ff202f8166",
   "metadata": {
    "tags": []
   },
   "source": [
    "# Script for creating database and DW, its tables and pushing data to these tables"
   ]
  },
  {
   "cell_type": "markdown",
   "id": "a1f5a8b3-1335-41be-8dec-9b7bc925933c",
   "metadata": {},
   "source": [
    "### 1. Running sub-scripts"
   ]
  },
  {
   "cell_type": "code",
   "execution_count": 2,
   "id": "6c2816e5-f86b-498c-8f0c-be308f39da5a",
   "metadata": {},
   "outputs": [],
   "source": [
    "%run Weather.ipynb\n",
    "%run Crime_final.ipynb"
   ]
  },
  {
   "cell_type": "markdown",
   "id": "8c76e2e2-dc09-42ab-aeb7-bd4f1cb01ea4",
   "metadata": {
    "jupyter": {
     "source_hidden": true
    },
    "tags": []
   },
   "source": [
    "### Configurations"
   ]
  },
  {
   "cell_type": "code",
   "execution_count": 16,
   "id": "29597613-625e-4c11-b212-1d5202c6c6f0",
   "metadata": {},
   "outputs": [],
   "source": [
    "import pyodbc\n",
    "import pandas as pd\n",
    "from warnings import simplefilter\n",
    "\n",
    "WEATHER_FILE = 'Weather_final.csv'\n",
    "CRIME_FILE = 'CRIME_FILE.csv'\n",
    "\n",
    "SERVER = 'localhost'\n",
    "DATABASE = 'Miniprojekti2'\n",
    "DATAWAREHOUSE = 'Miniprojekti2DW'\n",
    "USER = 'sa'\n",
    "PWD = 'Password1'\n",
    "\n",
    "simplefilter(action='ignore', category=UserWarning)"
   ]
  },
  {
   "cell_type": "markdown",
   "id": "1accf8ef-e0a5-42d2-82e1-445c083de846",
   "metadata": {},
   "source": [
    "### 2. Create DB if not exist"
   ]
  },
  {
   "cell_type": "code",
   "execution_count": 17,
   "id": "e3d1690e-a320-478b-8503-d65c4a406938",
   "metadata": {},
   "outputs": [
    {
     "name": "stdout",
     "output_type": "stream",
     "text": [
      "Database already exists!\n"
     ]
    }
   ],
   "source": [
    "try:\n",
    "    cnxn = pyodbc.connect('DRIVER={ODBC Driver 17 for SQL Server};SERVER='+SERVER+';UID='+USER+';PWD='+ PWD, autocommit=True)\n",
    "    cursor = cnxn.cursor()\n",
    "    cursor.execute(\"CREATE DATABASE Miniprojekti2\")\n",
    "    cnxn.commit()\n",
    "    cursor.close()\n",
    "    cnxn.close()\n",
    "except:\n",
    "    print('Database already exists!')"
   ]
  },
  {
   "cell_type": "markdown",
   "id": "2b9bcf7c-d881-495a-84c2-0963a28479a2",
   "metadata": {},
   "source": [
    "### 3. Create Weather table if not exist"
   ]
  },
  {
   "cell_type": "code",
   "execution_count": 18,
   "id": "6325025b-58cc-40a6-a2b3-492532da6078",
   "metadata": {},
   "outputs": [
    {
     "name": "stdout",
     "output_type": "stream",
     "text": [
      "Table already exists!\n"
     ]
    }
   ],
   "source": [
    "cnxn = pyodbc.connect('DRIVER={ODBC Driver 17 for SQL Server};SERVER='+SERVER+';DATABASE='+DATABASE+';UID='+USER+';PWD='+ PWD)\n",
    "cursor = cnxn.cursor()\n",
    "try:\n",
    "    cursor.execute(\"\"\"\n",
    "    CREATE TABLE Weather(\n",
    "        DateKey int Primary Key,\n",
    "        Temperature float,\n",
    "        Humidity float,\n",
    "        Rainfall float,\n",
    "        Clouds float,\n",
    "        Wind float,\n",
    "        Weather_time datetime)\n",
    "    \"\"\")\n",
    "\n",
    "except:\n",
    "    print('Table already exists!')\n",
    "    cursor.execute(\"TRUNCATE TABLE Weather\")\n",
    "\n",
    "cnxn.commit()\n",
    "cursor.close()\n",
    "cnxn.close()"
   ]
  },
  {
   "cell_type": "markdown",
   "id": "741659e9-0e9f-483a-a4ca-19da0e007ac4",
   "metadata": {},
   "source": [
    "### 4. Load data into Weather table"
   ]
  },
  {
   "cell_type": "code",
   "execution_count": 19,
   "id": "c86b7a26-3617-4cb8-9946-aef279d97e27",
   "metadata": {},
   "outputs": [],
   "source": [
    "cnxn = pyodbc.connect('DRIVER={ODBC Driver 17 for SQL Server};SERVER='+SERVER+';DATABASE='+DATABASE+';UID='+USER+';PWD='+ PWD)\n",
    "cursor = cnxn.cursor()\n",
    "df_weather = pd.read_csv(WEATHER_FILE)\n",
    "for index, row in df_weather.iterrows():\n",
    "    cursor.execute(\"INSERT INTO dbo.Weather values(?,?,?,?,?,?,?)\",\n",
    "                   row['DateKey'],\n",
    "                   row['Temperature'],\n",
    "                   row['Humidity'],\n",
    "                   row['Rainfall'],\n",
    "                   row['Clouds'],\n",
    "                   row['Wind'],\n",
    "                   row['Weather_time']\n",
    "                   )\n",
    "    cnxn.commit()\n",
    "cursor.close()\n",
    "cnxn.close()"
   ]
  },
  {
   "cell_type": "markdown",
   "id": "4d8f7cdb-33aa-44a3-bfde-193bec65d599",
   "metadata": {},
   "source": [
    "### 5. Create Crime table if not exist"
   ]
  },
  {
   "cell_type": "code",
   "execution_count": 20,
   "id": "03f19e44-d1da-46cc-b0b9-7481cf8fe7f9",
   "metadata": {},
   "outputs": [
    {
     "name": "stdout",
     "output_type": "stream",
     "text": [
      "Table already exists!\n"
     ]
    }
   ],
   "source": [
    "cnxn = pyodbc.connect('DRIVER={ODBC Driver 17 for SQL Server};SERVER='+SERVER+';DATABASE='+DATABASE+';UID='+USER+';PWD='+ PWD)\n",
    "cursor = cnxn.cursor()\n",
    "try:\n",
    "    cursor.execute(\"\"\"\n",
    "    CREATE TABLE Crimes(\n",
    "        CrimeID int Primary Key,\n",
    "        IncidentCategory varchar(250),\n",
    "        Neighborhood varchar(250),\n",
    "        Datetime datetime,\n",
    "        Hour int,\n",
    "        Weather int)\n",
    "    \"\"\")\n",
    "\n",
    "except:\n",
    "    print('Table already exists!')\n",
    "    cursor.execute(\"TRUNCATE TABLE Crimes\")\n",
    "\n",
    "cnxn.commit()\n",
    "cursor.close()\n",
    "cnxn.close()"
   ]
  },
  {
   "cell_type": "markdown",
   "id": "1ab2872d-27b8-4455-9bdb-61948f37517b",
   "metadata": {},
   "source": [
    "### 6. Load data into Crime table"
   ]
  },
  {
   "cell_type": "code",
   "execution_count": 21,
   "id": "5d877d65-7b54-45a1-bf4f-d35cbeca6cb1",
   "metadata": {},
   "outputs": [],
   "source": [
    "cnxn = pyodbc.connect('DRIVER={ODBC Driver 17 for SQL Server};SERVER='+SERVER+';DATABASE='+DATABASE+';UID='+USER+';PWD='+ PWD)\n",
    "cursor = cnxn.cursor()\n",
    "df = pd.read_csv(CRIME_FILE, sep=';')\n",
    "for index, row in df.iterrows():\n",
    "    cursor.execute('INSERT INTO dbo.Crimes values(?,?,?,?,?,?)',\n",
    "                   index,\n",
    "                   row['incidentCategory'],\n",
    "                   row['neighborhood'],\n",
    "                   row['datetime'],\n",
    "                   row['hour'],\n",
    "                   row['weather']\n",
    "                   )\n",
    "    cnxn.commit()\n",
    "cursor.close()\n",
    "cnxn.close()"
   ]
  },
  {
   "cell_type": "markdown",
   "id": "2b635fbf-c63b-4413-8be5-14921bee9c31",
   "metadata": {},
   "source": [
    "### 7. Create DW if not exist"
   ]
  },
  {
   "cell_type": "code",
   "execution_count": 22,
   "id": "e921bf95-c4a7-426d-92d4-568a6fcbab22",
   "metadata": {},
   "outputs": [
    {
     "name": "stdout",
     "output_type": "stream",
     "text": [
      "Database already exists!\n"
     ]
    }
   ],
   "source": [
    "try:\n",
    "    cnxn = pyodbc.connect('DRIVER={ODBC Driver 17 for SQL Server};SERVER='+SERVER+';UID='+USER+';PWD='+ PWD, autocommit=True)\n",
    "    cursor = cnxn.cursor()\n",
    "    cursor.execute(\"CREATE DATABASE Miniprojekti2DW\")\n",
    "    cnxn.commit()\n",
    "    cursor.close()\n",
    "    cnxn.close()\n",
    "except:\n",
    "    print('Database already exists!')"
   ]
  },
  {
   "cell_type": "markdown",
   "id": "023f6a20-a4ae-4da7-996e-6216703dc37a",
   "metadata": {},
   "source": [
    "### 8. Create FactCrimes table if not exist"
   ]
  },
  {
   "cell_type": "code",
   "execution_count": 23,
   "id": "3b40e676-df24-4312-b2ae-78d4529ccd0d",
   "metadata": {},
   "outputs": [
    {
     "name": "stdout",
     "output_type": "stream",
     "text": [
      "Table already exists!\n"
     ]
    }
   ],
   "source": [
    "cnxn_dest = pyodbc.connect('DRIVER={ODBC Driver 17 for SQL Server};SERVER='+SERVER+';DATABASE='+DATAWAREHOUSE+';UID='+USER+';PWD='+ PWD)\n",
    "cursor = cnxn_dest.cursor()\n",
    "try:\n",
    "    cursor.execute(\"\"\"CREATE TABLE FactCrimes(\n",
    "                        CrimeID int Primary Key,\n",
    "                        IncidentCategory varchar(250),\n",
    "                        Neighborhood varchar(250),\n",
    "                        DateKey int,\n",
    "                        Temperature float,\n",
    "                        Humidity float,\n",
    "                        Rainfall float,\n",
    "                        Clouds float,\n",
    "                        Wind float)\n",
    "    \"\"\")\n",
    "except:\n",
    "    print('Table already exists!')\n",
    "    cursor.execute(\"TRUNCATE TABLE FactCrimes\")\n",
    "    \n",
    "cnxn_dest.commit()\n",
    "cursor.close()\n",
    "cnxn_dest.close()"
   ]
  },
  {
   "cell_type": "markdown",
   "id": "e18bc861-2e9d-4034-9d06-e301b30faf0d",
   "metadata": {},
   "source": [
    "### 9. Transform data for DW"
   ]
  },
  {
   "cell_type": "code",
   "execution_count": 24,
   "id": "5e76902e-9d91-418e-99b3-69d4970fd89d",
   "metadata": {},
   "outputs": [
    {
     "data": {
      "text/html": [
       "<div>\n",
       "<style scoped>\n",
       "    .dataframe tbody tr th:only-of-type {\n",
       "        vertical-align: middle;\n",
       "    }\n",
       "\n",
       "    .dataframe tbody tr th {\n",
       "        vertical-align: top;\n",
       "    }\n",
       "\n",
       "    .dataframe thead th {\n",
       "        text-align: right;\n",
       "    }\n",
       "</style>\n",
       "<table border=\"1\" class=\"dataframe\">\n",
       "  <thead>\n",
       "    <tr style=\"text-align: right;\">\n",
       "      <th></th>\n",
       "      <th>IncidentCategory</th>\n",
       "      <th>Neighborhood</th>\n",
       "      <th>Datetime</th>\n",
       "      <th>Hour</th>\n",
       "      <th>DateKey</th>\n",
       "      <th>Temperature</th>\n",
       "      <th>Humidity</th>\n",
       "      <th>Rainfall</th>\n",
       "      <th>Clouds</th>\n",
       "      <th>Wind</th>\n",
       "    </tr>\n",
       "    <tr>\n",
       "      <th>CrimeID</th>\n",
       "      <th></th>\n",
       "      <th></th>\n",
       "      <th></th>\n",
       "      <th></th>\n",
       "      <th></th>\n",
       "      <th></th>\n",
       "      <th></th>\n",
       "      <th></th>\n",
       "      <th></th>\n",
       "      <th></th>\n",
       "    </tr>\n",
       "  </thead>\n",
       "  <tbody>\n",
       "    <tr>\n",
       "      <th>16843</th>\n",
       "      <td>Larceny Theft</td>\n",
       "      <td>Mission</td>\n",
       "      <td>2022-09-25 01:00:00</td>\n",
       "      <td>1</td>\n",
       "      <td>2022092501</td>\n",
       "      <td>15.5</td>\n",
       "      <td>97.0</td>\n",
       "      <td>0.0</td>\n",
       "      <td>0.0</td>\n",
       "      <td>2.20</td>\n",
       "    </tr>\n",
       "    <tr>\n",
       "      <th>16844</th>\n",
       "      <td>Motor Vehicle Theft</td>\n",
       "      <td>Hayes Valley</td>\n",
       "      <td>2022-09-25 01:00:00</td>\n",
       "      <td>1</td>\n",
       "      <td>2022092501</td>\n",
       "      <td>15.5</td>\n",
       "      <td>97.0</td>\n",
       "      <td>0.0</td>\n",
       "      <td>0.0</td>\n",
       "      <td>2.20</td>\n",
       "    </tr>\n",
       "    <tr>\n",
       "      <th>16845</th>\n",
       "      <td>Fraud</td>\n",
       "      <td>Mission</td>\n",
       "      <td>2022-09-25 01:00:00</td>\n",
       "      <td>1</td>\n",
       "      <td>2022092501</td>\n",
       "      <td>15.5</td>\n",
       "      <td>97.0</td>\n",
       "      <td>0.0</td>\n",
       "      <td>0.0</td>\n",
       "      <td>2.20</td>\n",
       "    </tr>\n",
       "    <tr>\n",
       "      <th>16846</th>\n",
       "      <td>Larceny Theft</td>\n",
       "      <td>Chinatown</td>\n",
       "      <td>2022-09-25 01:00:00</td>\n",
       "      <td>1</td>\n",
       "      <td>2022092501</td>\n",
       "      <td>15.5</td>\n",
       "      <td>97.0</td>\n",
       "      <td>0.0</td>\n",
       "      <td>0.0</td>\n",
       "      <td>2.20</td>\n",
       "    </tr>\n",
       "    <tr>\n",
       "      <th>16847</th>\n",
       "      <td>Malicious Mischief</td>\n",
       "      <td>Financial District/South Beach</td>\n",
       "      <td>2022-09-25 01:19:00</td>\n",
       "      <td>1</td>\n",
       "      <td>2022092501</td>\n",
       "      <td>15.5</td>\n",
       "      <td>97.0</td>\n",
       "      <td>0.0</td>\n",
       "      <td>0.0</td>\n",
       "      <td>2.20</td>\n",
       "    </tr>\n",
       "    <tr>\n",
       "      <th>...</th>\n",
       "      <td>...</td>\n",
       "      <td>...</td>\n",
       "      <td>...</td>\n",
       "      <td>...</td>\n",
       "      <td>...</td>\n",
       "      <td>...</td>\n",
       "      <td>...</td>\n",
       "      <td>...</td>\n",
       "      <td>...</td>\n",
       "      <td>...</td>\n",
       "    </tr>\n",
       "    <tr>\n",
       "      <th>46144</th>\n",
       "      <td>Motor Vehicle Theft</td>\n",
       "      <td>Bayview Hunters Point</td>\n",
       "      <td>2023-03-07 11:55:00</td>\n",
       "      <td>11</td>\n",
       "      <td>2023030711</td>\n",
       "      <td>9.0</td>\n",
       "      <td>68.0</td>\n",
       "      <td>0.0</td>\n",
       "      <td>48.0</td>\n",
       "      <td>1.94</td>\n",
       "    </tr>\n",
       "    <tr>\n",
       "      <th>46145</th>\n",
       "      <td>Larceny Theft</td>\n",
       "      <td>Bernal Heights</td>\n",
       "      <td>2023-03-07 12:00:00</td>\n",
       "      <td>12</td>\n",
       "      <td>2023030712</td>\n",
       "      <td>10.2</td>\n",
       "      <td>62.0</td>\n",
       "      <td>0.0</td>\n",
       "      <td>80.0</td>\n",
       "      <td>2.58</td>\n",
       "    </tr>\n",
       "    <tr>\n",
       "      <th>46146</th>\n",
       "      <td>Fraud</td>\n",
       "      <td>Tenderloin</td>\n",
       "      <td>2023-03-07 12:00:00</td>\n",
       "      <td>12</td>\n",
       "      <td>2023030712</td>\n",
       "      <td>10.2</td>\n",
       "      <td>62.0</td>\n",
       "      <td>0.0</td>\n",
       "      <td>80.0</td>\n",
       "      <td>2.58</td>\n",
       "    </tr>\n",
       "    <tr>\n",
       "      <th>46147</th>\n",
       "      <td>Larceny Theft</td>\n",
       "      <td>Financial District/South Beach</td>\n",
       "      <td>2023-03-07 12:00:00</td>\n",
       "      <td>12</td>\n",
       "      <td>2023030712</td>\n",
       "      <td>10.2</td>\n",
       "      <td>62.0</td>\n",
       "      <td>0.0</td>\n",
       "      <td>80.0</td>\n",
       "      <td>2.58</td>\n",
       "    </tr>\n",
       "    <tr>\n",
       "      <th>46148</th>\n",
       "      <td>Motor Vehicle Theft</td>\n",
       "      <td>Bayview Hunters Point</td>\n",
       "      <td>2023-03-07 12:02:00</td>\n",
       "      <td>12</td>\n",
       "      <td>2023030712</td>\n",
       "      <td>10.2</td>\n",
       "      <td>62.0</td>\n",
       "      <td>0.0</td>\n",
       "      <td>80.0</td>\n",
       "      <td>2.58</td>\n",
       "    </tr>\n",
       "  </tbody>\n",
       "</table>\n",
       "<p>29306 rows × 10 columns</p>\n",
       "</div>"
      ],
      "text/plain": [
       "            IncidentCategory                    Neighborhood  \\\n",
       "CrimeID                                                        \n",
       "16843          Larceny Theft                         Mission   \n",
       "16844    Motor Vehicle Theft                    Hayes Valley   \n",
       "16845                  Fraud                         Mission   \n",
       "16846          Larceny Theft                       Chinatown   \n",
       "16847     Malicious Mischief  Financial District/South Beach   \n",
       "...                      ...                             ...   \n",
       "46144    Motor Vehicle Theft           Bayview Hunters Point   \n",
       "46145          Larceny Theft                  Bernal Heights   \n",
       "46146                  Fraud                      Tenderloin   \n",
       "46147          Larceny Theft  Financial District/South Beach   \n",
       "46148    Motor Vehicle Theft           Bayview Hunters Point   \n",
       "\n",
       "                   Datetime  Hour     DateKey  Temperature  Humidity  \\\n",
       "CrimeID                                                                \n",
       "16843   2022-09-25 01:00:00     1  2022092501         15.5      97.0   \n",
       "16844   2022-09-25 01:00:00     1  2022092501         15.5      97.0   \n",
       "16845   2022-09-25 01:00:00     1  2022092501         15.5      97.0   \n",
       "16846   2022-09-25 01:00:00     1  2022092501         15.5      97.0   \n",
       "16847   2022-09-25 01:19:00     1  2022092501         15.5      97.0   \n",
       "...                     ...   ...         ...          ...       ...   \n",
       "46144   2023-03-07 11:55:00    11  2023030711          9.0      68.0   \n",
       "46145   2023-03-07 12:00:00    12  2023030712         10.2      62.0   \n",
       "46146   2023-03-07 12:00:00    12  2023030712         10.2      62.0   \n",
       "46147   2023-03-07 12:00:00    12  2023030712         10.2      62.0   \n",
       "46148   2023-03-07 12:02:00    12  2023030712         10.2      62.0   \n",
       "\n",
       "         Rainfall  Clouds  Wind  \n",
       "CrimeID                          \n",
       "16843         0.0     0.0  2.20  \n",
       "16844         0.0     0.0  2.20  \n",
       "16845         0.0     0.0  2.20  \n",
       "16846         0.0     0.0  2.20  \n",
       "16847         0.0     0.0  2.20  \n",
       "...           ...     ...   ...  \n",
       "46144         0.0    48.0  1.94  \n",
       "46145         0.0    80.0  2.58  \n",
       "46146         0.0    80.0  2.58  \n",
       "46147         0.0    80.0  2.58  \n",
       "46148         0.0    80.0  2.58  \n",
       "\n",
       "[29306 rows x 10 columns]"
      ]
     },
     "execution_count": 24,
     "metadata": {},
     "output_type": "execute_result"
    }
   ],
   "source": [
    "cnxn_src = pyodbc.connect('DRIVER={ODBC Driver 17 for SQL Server};SERVER='+SERVER+';DATABASE='+DATABASE+';UID='+USER+';PWD='+ PWD)\n",
    "\n",
    "df_dw = pd.read_sql(\"\"\"\n",
    "SELECT * \n",
    "FROM Crimes AS C\n",
    "FULL JOIN Weather AS W ON C.Weather = W.DateKey\n",
    "WHERE Weather BETWEEN 2022092501 AND 2023030712\n",
    "\"\"\", con=cnxn_src)\n",
    "\n",
    "# Set CrimeID as index\n",
    "df_dw.set_index(['CrimeID'], inplace=True)\n",
    "df_dw.drop(columns=['Weather','Weather_time'], inplace=True)\n",
    "df_dw.to_csv('FactCrimes.csv')\n",
    "df_dw.head()"
   ]
  },
  {
   "cell_type": "markdown",
   "id": "ec89466c-797f-4afe-8d3e-db92e8feab72",
   "metadata": {
    "tags": []
   },
   "source": [
    "### 10. Load FactCrimes"
   ]
  },
  {
   "cell_type": "code",
   "execution_count": 25,
   "id": "b8ae070d-81a6-4fac-b836-1b51dd3bf104",
   "metadata": {},
   "outputs": [],
   "source": [
    "cnxn_dest = pyodbc.connect('DRIVER={ODBC Driver 17 for SQL Server};SERVER='+SERVER+';DATABASE='+DATAWAREHOUSE+';UID='+USER+';PWD='+ PWD)\n",
    "cursor = cnxn_dest.cursor()\n",
    "\n",
    "for index,row in df_dw.iterrows():\n",
    "    cursor.execute('INSERT INTO dbo.FactCrimes values (?,?,?,?,?,?,?,?,?)',\n",
    "                   index,\n",
    "                   row['IncidentCategory'],\n",
    "                   row['Neighborhood'],\n",
    "                   row['DateKey'],\n",
    "                   row['Temperature'],\n",
    "                   row['Humidity'],\n",
    "                   row['Rainfall'],\n",
    "                   row['Clouds'],\n",
    "                   row['Wind'])\n",
    "    cnxn_dest.commit()\n",
    "cursor.close()\n",
    "cnxn_dest.close()"
   ]
  },
  {
   "cell_type": "markdown",
   "id": "a4ed2fbd-14e8-4426-999f-015658e70ad6",
   "metadata": {},
   "source": [
    "### 11. Create DimDate table if not exist"
   ]
  },
  {
   "cell_type": "code",
   "execution_count": 26,
   "id": "1ebb68c8-05e4-4154-9d89-f4070b460d71",
   "metadata": {},
   "outputs": [
    {
     "name": "stdout",
     "output_type": "stream",
     "text": [
      "Table already exists!\n"
     ]
    }
   ],
   "source": [
    "cnxn = pyodbc.connect('DRIVER={ODBC Driver 17 for SQL Server};SERVER='+SERVER+';DATABASE='+DATAWAREHOUSE+';UID='+USER+';PWD='+ PWD)\n",
    "cursor = cnxn.cursor()\n",
    "try:\n",
    "    cursor.execute(\"\"\"\n",
    "    CREATE TABLE DimDate(\n",
    "        DateKey int Primary Key,\n",
    "        Datetime datetime,\n",
    "        Year int,\n",
    "        Month int,\n",
    "        Day int,\n",
    "        Hour int)\n",
    "    \"\"\")\n",
    "\n",
    "except:\n",
    "    print('Table already exists!')\n",
    "    cursor.execute(\"TRUNCATE TABLE DimDate\")\n",
    "    \n",
    "cnxn.commit()\n",
    "cursor.close()\n",
    "cnxn.close()"
   ]
  },
  {
   "cell_type": "markdown",
   "id": "3ae98a04-b756-4ece-91de-8f4d95eade08",
   "metadata": {},
   "source": [
    "### 12. Generate DimDate"
   ]
  },
  {
   "cell_type": "code",
   "execution_count": 27,
   "id": "cfc0d8fa-e264-420e-aa40-62e4ebc69fe2",
   "metadata": {},
   "outputs": [],
   "source": [
    "%run DimDate.ipynb"
   ]
  },
  {
   "cell_type": "markdown",
   "id": "dc5b3b6f-bb4c-43ab-a2ae-175f4cb2066e",
   "metadata": {},
   "source": [
    "### 13. Load DimDate into DW"
   ]
  },
  {
   "cell_type": "code",
   "execution_count": 28,
   "id": "68274d9b-5e34-43e5-9002-a228da3e088f",
   "metadata": {},
   "outputs": [],
   "source": [
    "df_dd = pd.read_csv('DimDate.csv')\n",
    "cnxn = pyodbc.connect('DRIVER={ODBC Driver 17 for SQL Server};SERVER='+SERVER+';DATABASE='+DATAWAREHOUSE+';UID='+USER+';PWD='+ PWD)\n",
    "cursor = cnxn.cursor()\n",
    "\n",
    "for index, row in df_dd.iterrows():\n",
    "    cursor.execute(\"INSERT INTO DimDate values(?,?,?,?,?,?)\", \n",
    "                   int(row['DateKey']), \n",
    "                   row['Datetime'], \n",
    "                   int(row['Year']), \n",
    "                   int(row['Month']), \n",
    "                   int(row['Day']), \n",
    "                   int(row['Hour']))\n",
    "    cnxn.commit()\n",
    "    \n",
    "cursor.close()\n",
    "cnxn.close()"
   ]
  }
 ],
 "metadata": {
  "kernelspec": {
   "display_name": "Python 3 (ipykernel)",
   "language": "python",
   "name": "python3"
  },
  "language_info": {
   "codemirror_mode": {
    "name": "ipython",
    "version": 3
   },
   "file_extension": ".py",
   "mimetype": "text/x-python",
   "name": "python",
   "nbconvert_exporter": "python",
   "pygments_lexer": "ipython3",
   "version": "3.11.1"
  }
 },
 "nbformat": 4,
 "nbformat_minor": 5
}
